{
 "cells": [
  {
   "cell_type": "code",
   "execution_count": 1,
   "metadata": {},
   "outputs": [],
   "source": [
    "# Trying to reproduce error in which BigFloat arrays remain\n",
    "# unmodified when changed within a routine"
   ]
  },
  {
   "cell_type": "code",
   "execution_count": 2,
   "metadata": {},
   "outputs": [
    {
     "name": "stdout",
     "output_type": "stream",
     "text": [
      "x[3,3]: 1.0\n",
      "x_big[3,3]: 1.0\n"
     ]
    }
   ],
   "source": [
    "x = rand(5,5)\n",
    "x_big = big.(x)\n",
    "\n",
    "# Now, modify elements:\n",
    "\n",
    "function modify_elements!(x::Array{T,2}) where {T <: Real}\n",
    "    x[3,3] = 1.0\n",
    "return\n",
    "end\n",
    "\n",
    "# Try with Float64 array:\n",
    "\n",
    "modify_elements!(x)\n",
    "println(\"x[3,3]: \",x[3,3])\n",
    "# Try with BigFloat array:\n",
    "\n",
    "modify_elements!(x_big)\n",
    "println(\"x_big[3,3]: \",x_big[3,3])"
   ]
  },
  {
   "cell_type": "code",
   "execution_count": 3,
   "metadata": {},
   "outputs": [
    {
     "data": {
      "text/plain": [
       "5×5 Array{BigFloat,2}:\n",
       " 8.89152e-01  8.67789e-01  9.2533e-01   5.77417e-01  5.54156e-01\n",
       " 2.25439e-01  5.45737e-01  7.57757e-01  4.21549e-01  7.42159e-01\n",
       " 6.28186e-01  3.85949e-01  1.0          4.99883e-01  3.72047e-03\n",
       " 8.62348e-01  5.57916e-01  3.68108e-01  4.7455e-01   7.80171e-01\n",
       " 5.29732e-01  5.87087e-01  6.41942e-02  1.27293e-02  8.46085e-01"
      ]
     },
     "execution_count": 3,
     "metadata": {},
     "output_type": "execute_result"
    }
   ],
   "source": [
    "x_big"
   ]
  },
  {
   "cell_type": "code",
   "execution_count": 4,
   "metadata": {},
   "outputs": [
    {
     "data": {
      "text/plain": [
       "5×5 Array{Float64,2}:\n",
       " 0.889152  0.867789  0.92533    0.577417   0.554156  \n",
       " 0.225439  0.545737  0.757757   0.421549   0.742159  \n",
       " 0.628186  0.385949  1.0        0.499883   0.00372047\n",
       " 0.862348  0.557916  0.368108   0.47455    0.780171  \n",
       " 0.529732  0.587087  0.0641942  0.0127293  0.846085  "
      ]
     },
     "execution_count": 4,
     "metadata": {},
     "output_type": "execute_result"
    }
   ],
   "source": [
    "x"
   ]
  },
  {
   "cell_type": "code",
   "execution_count": 5,
   "metadata": {},
   "outputs": [
    {
     "data": {
      "text/plain": [
       "5×5 Array{BigFloat,2}:\n",
       " 0.0  0.0  0.0  0.0  0.0\n",
       " 0.0  0.0  0.0  0.0  0.0\n",
       " 0.0  0.0  0.0  0.0  0.0\n",
       " 0.0  0.0  0.0  0.0  0.0\n",
       " 0.0  0.0  0.0  0.0  0.0"
      ]
     },
     "execution_count": 5,
     "metadata": {},
     "output_type": "execute_result"
    }
   ],
   "source": [
    "x-x_big"
   ]
  },
  {
   "cell_type": "code",
   "execution_count": null,
   "metadata": {},
   "outputs": [],
   "source": []
  }
 ],
 "metadata": {
  "kernelspec": {
   "display_name": "Julia 1.0.1",
   "language": "julia",
   "name": "julia-1.0"
  },
  "language_info": {
   "file_extension": ".jl",
   "mimetype": "application/julia",
   "name": "julia",
   "version": "1.0.1"
  }
 },
 "nbformat": 4,
 "nbformat_minor": 2
}
