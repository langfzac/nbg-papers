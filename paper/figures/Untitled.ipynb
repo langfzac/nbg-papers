{
 "cells": [
  {
   "cell_type": "code",
   "execution_count": 1,
   "metadata": {},
   "outputs": [],
   "source": [
    "# Trying to reproduce error in which BigFloat arrays remain\n",
    "# unmodified when changed within a routine"
   ]
  },
  {
   "cell_type": "code",
   "execution_count": null,
   "metadata": {},
   "outputs": [],
   "source": [
    "x = rand(5,5)\n",
    "x_big = big.(x)\n",
    "\n",
    "# Now, modify elements:\n",
    "\n",
    "function modify_elements!(x::Array{T,2}) where {T <: Real}\n",
    "    \n",
    "    x[3,3] = 1.0\n",
    "return\n",
    "end\n",
    "\n",
    "# Try with Float64 array:\n",
    "\n",
    "modify_elements!(xmod)\n",
    "\n",
    "# "
   ]
  }
 ],
 "metadata": {
  "kernelspec": {
   "display_name": "Julia 1.0.1",
   "language": "julia",
   "name": "julia-1.0"
  },
  "language_info": {
   "file_extension": ".jl",
   "mimetype": "application/julia",
   "name": "julia",
   "version": "1.0.1"
  }
 },
 "nbformat": 4,
 "nbformat_minor": 2
}
